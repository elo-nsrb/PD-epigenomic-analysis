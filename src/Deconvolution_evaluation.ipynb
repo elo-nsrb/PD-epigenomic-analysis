{
 "cells": [
  {
   "cell_type": "code",
   "execution_count": 3,
   "id": "4890959b-eafa-49a5-a165-ee7b26306ec6",
   "metadata": {},
   "outputs": [],
   "source": [
    "import pandas as pd\n",
    "import os\n",
    "from glob import glob\n",
    "import numpy as np\n",
    "import anndata as ad\n",
    "import seaborn as sns\n",
    "import matplotlib.pyplot as plt\n",
    "from scipy.stats import pearsonr, spearmanr\n",
    "import matplotlib.colors as mcolors\n",
    "from matplotlib.colors import ListedColormap, LinearSegmentedColormap\n",
    "from matplotlib.patches import Patch\n",
    "from scipy.stats import linregress\n",
    "import scipy.stats as stats\n",
    "import statsmodels.api as sm\n",
    "from sklearn.manifold import TSNE\n",
    "from statsmodels.stats.multitest import fdrcorrection\n"
   ]
  },
  {
   "cell_type": "code",
   "execution_count": 41,
   "id": "308c2305-1b7a-47aa-8ce7-46a973fab82d",
   "metadata": {},
   "outputs": [],
   "source": [
    "def plot_per_celltype(df_metrics_tot,\n",
    "                    method,\n",
    "                    savename,\n",
    "                    metrics,\n",
    "                    ):\n",
    "\n",
    "    start_color = '#FF6B35'\n",
    "    end_color = '#FFFFFF'\n",
    "\n",
    "    palette = [\"#272300\",\"#443F1C\",\"#746E48\",\"#A9A179\",\"#CDC392\",\"#E8E5DA\",\"#9EB7E5\",\"#648DE5\",\"#304C89\"]#, \"#08336D\"]\n",
    "    xolorr = \"#677CBF\"#'#A02c5a'#\"#27C196\"#\"#304C89\"\n",
    "    cmap = mcolors.LinearSegmentedColormap.from_list('my_colormap', palette)\n",
    "    colors = [start_color, end_color]\n",
    "    cmap = LinearSegmentedColormap.from_list('my_cmap', palette)\n",
    "\n",
    "    # Convert colormap to seaborn palette\n",
    "    n_colors = np.linspace(1,0.1,5)  # Number of colors in the palette\n",
    "    palette = [cmap(it) for it in n_colors]\n",
    "    palette = {\"NEU\":\"#75485E\",\"EXC\":\"#C23E7E\", \"INH\":\"#75485E\",  \"OLD\":\"#51A3A3\",\"OPCs\":\"#C0F0F0\", \"MIC\":\"#CB904D\", \"AST\":\"#C3E991\",\n",
    "           \"bulk\":\"#CCCCCC\",  \"SPOR\":\"#F7D7C8\",\n",
    "        \"CTRL\":\"#BABABA\",\"SPOR\":\"#A9E5BB\", \"GBA1\":\"#2D1E2F\", \"LRRK\":\"#F7B32B\",\n",
    "           \"CAUD\":\"#12323B\", \"SMTG\":\"#760E44\",\n",
    "            \"MDFG\":\"#C2518B\",\"HIPP\":\"#F0C20E\", \"PTMN\":\"#0EADC2\",\"SUNI\":\"#96C22B\",\n",
    "            \"Male\":\"#28587B\",\"Female\":\"#FF715B\"}\n",
    "    fig, axes = plt.subplots(1,len(metrics), figsize=(12,6))\n",
    "    axes = axes.flatten()\n",
    "    sns.set(font_scale=2, style=\"white\")\n",
    "    fontsize=18\n",
    "    #tmp_method = \"RandomForestRegressor\"\n",
    "    tmp_method = method\n",
    "    df_tmp = df_metrics_tot[df_metrics_tot.method ==tmp_method]\n",
    "    sns.set(style=\"white\", font_scale=2)\n",
    "    for indx, it in enumerate(metrics):\n",
    "        tmp = df_tmp[df_tmp.metrics==it].groupby([\"celltype\", \"fold\"]).res.mean().reset_index()\n",
    "        ax = axes[indx]\n",
    "        sns.boxplot(data=tmp,x=\"celltype\",\n",
    "                hue=\"celltype\",\n",
    "                y=\"res\", palette=palette,\n",
    "                ax=ax,\n",
    "                showmeans=True,\n",
    "                dodge=False,\n",
    "                   showfliers = True, \n",
    "                # boxprops={'facecolor':'none', 'edgecolor':xolorr},\n",
    "                meanprops={\"marker\":\"o\",\n",
    "                    \"markerfacecolor\":\"k\",\n",
    "                    \"markeredgecolor\":\"k\",\n",
    "                    \"markersize\":\"5\"},\n",
    "                # medianprops={'color':xolorr},\n",
    "        whiskerprops={'color':xolorr},\n",
    "        capprops={'color':xolorr},\n",
    "                flierprops={\"markerfacecolor\":xolorr, \"markeredgecolor\":xolorr},\n",
    "                linewidth=0.8)#, notch=True)\n",
    "        means = tmp.groupby(['celltype'])['res'].median().round(2)\n",
    "        vertical_offset = tmp['res'].median() * 0.01 # offset from median for display\n",
    "        print(it)\n",
    "        if it==\"rmse\": #in it:\n",
    "            # ax.set_yscale(\"log\")\n",
    "            ax.set_title(\"RMSE\")\n",
    "        elif \"pearson\" in it:\n",
    "            ax.set_title(\"Pearson\")\n",
    "        elif \"spearman\" in it:\n",
    "            ax.set_title(\"Spearman\")\n",
    "        elif it ==\"auc\":\n",
    "            ax.set_title(\"AUROC\") \n",
    "        elif it ==\"auprc\":\n",
    "            ax.set_title(\"AUPRC\")\n",
    "            means = df_tmp[df_tmp.metrics==\"prevalence\"].groupby([\"celltype\"]).res.mean()\n",
    "            \n",
    "\n",
    "            for xtick in ax.get_xticks():\n",
    "                ax.scatter(xtick,\n",
    "                        means[xtick],\n",
    "                        # means[xtick], \n",
    "                        # horizontalalignment='center',\n",
    "                        marker=\"x\",\n",
    "                           s=100,\n",
    "                           c=\"grey\"\n",
    "                        # size='x-small',color='black',weight='semibold'\n",
    "                          )\n",
    "        ax.set_xlabel(\"\")\n",
    "        # ax.set_title( it)\n",
    "        ax.set_ylabel(\"\")\n",
    "       # ax.set_ylim(0,1)\n",
    "        ax.set_xticklabels(ax.get_xticklabels(), rotation=90)\n",
    "        ax.legend().remove()\n",
    "        ax.spines['top'].set_visible(False)\n",
    "        ax.spines['right'].set_visible(False)\n",
    "    plt.tight_layout()\n",
    "    plt.savefig(savename + \"box_comp_CV_CELLTYPE.svg\",\n",
    "                bbox_inches=\"tight\")\n",
    "   # plt.close(\"all\")"
   ]
  },
  {
   "cell_type": "code",
   "execution_count": 38,
   "id": "d37356f4-5861-4752-83ec-4ebb7f3d98ca",
   "metadata": {},
   "outputs": [
    {
     "data": {
      "text/html": [
       "<div>\n",
       "<style scoped>\n",
       "    .dataframe tbody tr th:only-of-type {\n",
       "        vertical-align: middle;\n",
       "    }\n",
       "\n",
       "    .dataframe tbody tr th {\n",
       "        vertical-align: top;\n",
       "    }\n",
       "\n",
       "    .dataframe thead th {\n",
       "        text-align: right;\n",
       "    }\n",
       "</style>\n",
       "<table border=\"1\" class=\"dataframe\">\n",
       "  <thead>\n",
       "    <tr style=\"text-align: right;\">\n",
       "      <th></th>\n",
       "      <th>celltype</th>\n",
       "      <th>metrics</th>\n",
       "      <th>res</th>\n",
       "      <th>individualID</th>\n",
       "      <th>fold</th>\n",
       "    </tr>\n",
       "  </thead>\n",
       "  <tbody>\n",
       "    <tr>\n",
       "      <th>0</th>\n",
       "      <td>AST</td>\n",
       "      <td>spearman</td>\n",
       "      <td>0.372591</td>\n",
       "      <td>('11_0393', '11_0393', '11_0393', '11_0393', '...</td>\n",
       "      <td>fold_0</td>\n",
       "    </tr>\n",
       "    <tr>\n",
       "      <th>1</th>\n",
       "      <td>AST</td>\n",
       "      <td>spearman</td>\n",
       "      <td>0.721104</td>\n",
       "      <td>('11_0393', '11_0393', '11_0393', '11_0393', '...</td>\n",
       "      <td>fold_0</td>\n",
       "    </tr>\n",
       "    <tr>\n",
       "      <th>2</th>\n",
       "      <td>AST</td>\n",
       "      <td>spearman</td>\n",
       "      <td>0.763363</td>\n",
       "      <td>('11_0393', '11_0393', '11_0393', '11_0393', '...</td>\n",
       "      <td>fold_0</td>\n",
       "    </tr>\n",
       "    <tr>\n",
       "      <th>3</th>\n",
       "      <td>AST</td>\n",
       "      <td>spearman</td>\n",
       "      <td>0.790733</td>\n",
       "      <td>('11_0393', '11_0393', '11_0393', '11_0393', '...</td>\n",
       "      <td>fold_0</td>\n",
       "    </tr>\n",
       "    <tr>\n",
       "      <th>4</th>\n",
       "      <td>AST</td>\n",
       "      <td>spearman</td>\n",
       "      <td>0.495193</td>\n",
       "      <td>('11_0393', '11_0393', '11_0393', '11_0393', '...</td>\n",
       "      <td>fold_0</td>\n",
       "    </tr>\n",
       "    <tr>\n",
       "      <th>...</th>\n",
       "      <td>...</td>\n",
       "      <td>...</td>\n",
       "      <td>...</td>\n",
       "      <td>...</td>\n",
       "      <td>...</td>\n",
       "    </tr>\n",
       "    <tr>\n",
       "      <th>24247</th>\n",
       "      <td>OLD</td>\n",
       "      <td>prevalence</td>\n",
       "      <td>0.352286</td>\n",
       "      <td>('06_1516', '06_1516', '06_1516', '06_1516', '...</td>\n",
       "      <td>fold_4</td>\n",
       "    </tr>\n",
       "    <tr>\n",
       "      <th>24248</th>\n",
       "      <td>OLD</td>\n",
       "      <td>prevalence</td>\n",
       "      <td>0.660772</td>\n",
       "      <td>('06_1516', '06_1516', '06_1516', '06_1516', '...</td>\n",
       "      <td>fold_4</td>\n",
       "    </tr>\n",
       "    <tr>\n",
       "      <th>24249</th>\n",
       "      <td>OLD</td>\n",
       "      <td>prevalence</td>\n",
       "      <td>0.351955</td>\n",
       "      <td>('06_1516', '06_1516', '06_1516', '06_1516', '...</td>\n",
       "      <td>fold_4</td>\n",
       "    </tr>\n",
       "    <tr>\n",
       "      <th>24250</th>\n",
       "      <td>OLD</td>\n",
       "      <td>prevalence</td>\n",
       "      <td>0.733000</td>\n",
       "      <td>('06_1516', '06_1516', '06_1516', '06_1516', '...</td>\n",
       "      <td>fold_4</td>\n",
       "    </tr>\n",
       "    <tr>\n",
       "      <th>24251</th>\n",
       "      <td>OLD</td>\n",
       "      <td>prevalence</td>\n",
       "      <td>0.322818</td>\n",
       "      <td>('06_1516', '06_1516', '06_1516', '06_1516', '...</td>\n",
       "      <td>fold_4</td>\n",
       "    </tr>\n",
       "  </tbody>\n",
       "</table>\n",
       "<p>24252 rows × 5 columns</p>\n",
       "</div>"
      ],
      "text/plain": [
       "      celltype     metrics       res  \\\n",
       "0          AST    spearman  0.372591   \n",
       "1          AST    spearman  0.721104   \n",
       "2          AST    spearman  0.763363   \n",
       "3          AST    spearman  0.790733   \n",
       "4          AST    spearman  0.495193   \n",
       "...        ...         ...       ...   \n",
       "24247      OLD  prevalence  0.352286   \n",
       "24248      OLD  prevalence  0.660772   \n",
       "24249      OLD  prevalence  0.351955   \n",
       "24250      OLD  prevalence  0.733000   \n",
       "24251      OLD  prevalence  0.322818   \n",
       "\n",
       "                                            individualID    fold  \n",
       "0      ('11_0393', '11_0393', '11_0393', '11_0393', '...  fold_0  \n",
       "1      ('11_0393', '11_0393', '11_0393', '11_0393', '...  fold_0  \n",
       "2      ('11_0393', '11_0393', '11_0393', '11_0393', '...  fold_0  \n",
       "3      ('11_0393', '11_0393', '11_0393', '11_0393', '...  fold_0  \n",
       "4      ('11_0393', '11_0393', '11_0393', '11_0393', '...  fold_0  \n",
       "...                                                  ...     ...  \n",
       "24247  ('06_1516', '06_1516', '06_1516', '06_1516', '...  fold_4  \n",
       "24248  ('06_1516', '06_1516', '06_1516', '06_1516', '...  fold_4  \n",
       "24249  ('06_1516', '06_1516', '06_1516', '06_1516', '...  fold_4  \n",
       "24250  ('06_1516', '06_1516', '06_1516', '06_1516', '...  fold_4  \n",
       "24251  ('06_1516', '06_1516', '06_1516', '06_1516', '...  fold_4  \n",
       "\n",
       "[24252 rows x 5 columns]"
      ]
     },
     "execution_count": 38,
     "metadata": {},
     "output_type": "execute_result"
    }
   ],
   "source": [
    "model_path = \"/remote/home/eloiseb/experiments/deconv_peak/ct_5_2024/\"\n",
    "met = model_path + \"metrics_all_per_sub.csv\"\n",
    "df_metrics = pd.read_csv(met)\n",
    "df_metrics = df_metrics[~df_metrics.res.isna()]\n",
    "df_metrics"
   ]
  },
  {
   "cell_type": "code",
   "execution_count": 6,
   "id": "569eed60-e2cf-4067-b87f-3eed72170ff4",
   "metadata": {},
   "outputs": [
    {
     "data": {
      "text/plain": [
       "array([32404, 26087, 24512, 12513, 24009])"
      ]
     },
     "execution_count": 6,
     "metadata": {},
     "output_type": "execute_result"
    }
   ],
   "source": [
    "model_path = \"/home/eloiseb/experiments/deconv_peak/ct_5_2024/metrics_all_per_genes.csv\"\n",
    "met = model_path #+ \"metrics_all_per_.csv\"\n",
    "\n",
    "df_metrics = pd.read_csv(met)\n",
    "# df_metrics = df_metrics[~df_metrics.res.isna()]\n",
    "df_metrics[\"genes\"] = df_metrics[\"genes\"].astype(str)\n",
    "mat = df_metrics[df_metrics.metrics == \"spearman\"]#.groupby([\"celltype\", \"fold\", \"genes\"]).res.mean().reset_index()\n",
    "mat = mat.pivot(index=[\"celltype\", \"fold\"], columns=[\"genes\"], values=\"res\").fillna(0).reset_index().groupby(\"celltype\")[df_metrics.genes.unique().tolist()].mean()\n",
    "mat[mat<=0.2] = 0\n",
    "mask = mat.values\n",
    "mask[mask>0] = 1\n",
    "\n",
    "# mask.shape\n",
    "np.count_nonzero(mat,axis=1)"
   ]
  },
  {
   "cell_type": "code",
   "execution_count": 69,
   "id": "5516348c-f9a7-43b7-9b43-0f6bf89b1e4e",
   "metadata": {},
   "outputs": [
    {
     "data": {
      "text/plain": [
       "fold\n",
       "fold_0    0.634007\n",
       "fold_1    0.689811\n",
       "fold_2    0.676054\n",
       "fold_3    0.744671\n",
       "fold_4    0.720308\n",
       "Name: res, dtype: float64"
      ]
     },
     "execution_count": 69,
     "metadata": {},
     "output_type": "execute_result"
    }
   ],
   "source": [
    "df_metrics[df_metrics.metrics ==\"spearman\"].groupby([\"fold\"]).res.mean()#.mean()"
   ]
  },
  {
   "cell_type": "code",
   "execution_count": 40,
   "id": "7cd48b2f-a03f-475f-894c-ec926a9511cd",
   "metadata": {},
   "outputs": [
    {
     "data": {
      "text/plain": [
       "'/remote/home/eloiseb/experiments/deconv_peak/ct_5_2024/'"
      ]
     },
     "execution_count": 40,
     "metadata": {},
     "output_type": "execute_result"
    }
   ],
   "source": [
    "model_path"
   ]
  },
  {
   "cell_type": "code",
   "execution_count": 45,
   "id": "27a8130a-9c2f-4723-88df-d19816765ea9",
   "metadata": {},
   "outputs": [
    {
     "name": "stderr",
     "output_type": "stream",
     "text": [
      "/tmp/ipykernel_3998646/1083112195.py:84: UserWarning: set_ticklabels() should only be used with a fixed number of ticks, i.e. after set_ticks() or using a FixedLocator.\n",
      "  ax.set_xticklabels(ax.get_xticklabels(), rotation=90)\n",
      "No artists with labels found to put in legend.  Note that artists whose label start with an underscore are ignored when legend() is called with no argument.\n",
      "/tmp/ipykernel_3998646/1083112195.py:84: UserWarning: set_ticklabels() should only be used with a fixed number of ticks, i.e. after set_ticks() or using a FixedLocator.\n",
      "  ax.set_xticklabels(ax.get_xticklabels(), rotation=90)\n",
      "No artists with labels found to put in legend.  Note that artists whose label start with an underscore are ignored when legend() is called with no argument.\n"
     ]
    },
    {
     "name": "stdout",
     "output_type": "stream",
     "text": [
      "pearson\n",
      "spearman\n"
     ]
    },
    {
     "data": {
      "image/png": "[encoded data removed]",
      "text/plain": [
       "<Figure size 1200x600 with 2 Axes>"
      ]
     },
     "metadata": {},
     "output_type": "display_data"
    }
   ],
   "source": [
    "df_metrics[\"method\"] = \"Cellformer\"\n",
    "savename = \"tmp\"\n",
    "metrics=[\"pearson\", \"spearman\"]\n",
    "# metrics= [\"auc\", \"auprc\"]\n",
    "plot_per_celltype(df_metrics,\n",
    "                  \"Cellformer\",\n",
    "                     model_path+\"results_deconv_Cellformer\" ,\n",
    "                    metrics,\n",
    "                    )"
   ]
  }
 ],
 "metadata": {
  "kernelspec": {
   "display_name": "Python 3 (ipykernel)",
   "language": "python",
   "name": "python3"
  },
  "language_info": {
   "codemirror_mode": {
    "name": "ipython",
    "version": 3
   },
   "file_extension": ".py",
   "mimetype": "text/x-python",
   "name": "python",
   "nbconvert_exporter": "python",
   "pygments_lexer": "ipython3",
   "version": "3.10.13"
  }
 },
 "nbformat": 4,
 "nbformat_minor": 5
}
